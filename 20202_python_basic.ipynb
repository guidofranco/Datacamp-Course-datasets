{
  "nbformat": 4,
  "nbformat_minor": 0,
  "metadata": {
    "colab": {
      "name": "20202_python_basic.ipynb",
      "provenance": [],
      "collapsed_sections": [],
      "toc_visible": true,
      "authorship_tag": "ABX9TyOT6/wkkj/qGCtkXlJ+JaNg",
      "include_colab_link": true
    },
    "kernelspec": {
      "name": "python3",
      "display_name": "Python 3"
    }
  },
  "cells": [
    {
      "cell_type": "markdown",
      "metadata": {
        "id": "view-in-github",
        "colab_type": "text"
      },
      "source": [
        "<a href=\"https://colab.research.google.com/github/guidofranco/Datacamp-Course-datasets/blob/master/20202_python_basic.ipynb\" target=\"_parent\"><img src=\"https://colab.research.google.com/assets/colab-badge.svg\" alt=\"Open In Colab\"/></a>"
      ]
    },
    {
      "cell_type": "markdown",
      "metadata": {
        "id": "Pa6lnxF6YDld",
        "colab_type": "text"
      },
      "source": [
        "# Capítulo 1: Ejercicios básicos"
      ]
    },
    {
      "cell_type": "markdown",
      "metadata": {
        "id": "2tYMvX5pYPSe",
        "colab_type": "text"
      },
      "source": [
        "## Capítulo 1.1"
      ]
    },
    {
      "cell_type": "code",
      "metadata": {
        "id": "lM9TKXnDWb6Q",
        "colab_type": "code",
        "colab": {}
      },
      "source": [
        "var1 = int(input(\"Ingresar el valor de la 1ra. variable\"))\n",
        "var2 = int(input(\"Ingresar el valor de la 2da. variable\"))\n",
        "var3 = int(input(\"Ingresar el valor de la 3ra. variable\"))\n",
        "if (var1>var2 and var1>var3):\n",
        "  print(f\"El nro mayor es {var1}\")\n",
        "elif (var2>var1 and var2>var3):\n",
        "  print(f\"El nro mayor es {var2}\")\n",
        "else:\n",
        "  print(f\"El nro mayor es {var3}\")"
      ],
      "execution_count": null,
      "outputs": []
    },
    {
      "cell_type": "markdown",
      "metadata": {
        "id": "5r-KlYhLbAA5",
        "colab_type": "text"
      },
      "source": [
        "Forma minimalista en Python"
      ]
    },
    {
      "cell_type": "code",
      "metadata": {
        "id": "e_2E4KxaYHgr",
        "colab_type": "code",
        "colab": {}
      },
      "source": [
        "var1, var2, var3 = input(\"ingrese tres números separados por coma: \").split(\",\")\n",
        "print(f\"El mayor es {max(int(var1), int(var2), int(var3))}\")"
      ],
      "execution_count": null,
      "outputs": []
    },
    {
      "cell_type": "markdown",
      "metadata": {
        "id": "Kg2w8ETvmP0A",
        "colab_type": "text"
      },
      "source": [
        "## Ejercicios de práctica"
      ]
    },
    {
      "cell_type": "markdown",
      "metadata": {
        "id": "ITxuR5HdmZi3",
        "colab_type": "text"
      },
      "source": [
        "Crear un programa en python que me genere el mayor, el menor y el promedio para N números (máximo 5 líneas de código)"
      ]
    },
    {
      "cell_type": "code",
      "metadata": {
        "id": "-EwX2Z7_mVLR",
        "colab_type": "code",
        "colab": {}
      },
      "source": [
        "nros = []\n",
        "for i in range(int(input(\"Ingrese la cantidad N de números: \"))):\n",
        "  nros.append(int(input(f\"Ingrese el {i+1}º número: \")))\n",
        "print(f\"El mayor es: {max(nros)}. El menor es {min(nros)}. El promedio es {sum(nros)/len(nros)}\")"
      ],
      "execution_count": null,
      "outputs": []
    },
    {
      "cell_type": "markdown",
      "metadata": {
        "id": "TI7HBqP-pzkk",
        "colab_type": "text"
      },
      "source": [
        "Desarrolle un  programa que simule el juego de \"frio y caliente\" entre números de 1 a 100. El software debe generar de forma aleatora un número comprendido entre 1 y 100 y pedirle al usuario que ingrese un número.\n",
        "Si la diferencia entre el número ingresado y el número que generó el sistema es menor de 10, éste debe decir \"caliente\".\n",
        "Si la diferencia es mayor de 10 debe decir \"frio\".\n"
      ]
    },
    {
      "cell_type": "code",
      "metadata": {
        "id": "Ue1eoHByqpJ9",
        "colab_type": "code",
        "colab": {}
      },
      "source": [
        "from random import randint\n",
        "random_number, input_number = randint(1, 100), int(input(\"Ingrese un número: \"))\n",
        "while random_number != input_number:\n",
        "  print(\"Frío\") if (abs(input_number-random_number)) <= 10 else print(\"Caliente\")\n",
        "  input_number =  int(input(\"Ingrese un número: \"))\n",
        "print(f\"Acertaste!, era {random_number}\")"
      ],
      "execution_count": null,
      "outputs": []
    }
  ]
}